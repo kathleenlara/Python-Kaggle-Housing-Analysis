{
 "cells": [
  {
   "cell_type": "code",
   "execution_count": 1,
   "metadata": {},
   "outputs": [],
   "source": [
    "import numpy as np\n",
    "import matplotlib.pyplot as plt\n",
    "import matplotlib.gridspec as gridspec\n",
    "import pandas as pd\n",
    "import statsmodels.api as sm\n",
    "import seaborn as sns\n",
    "import numpy as np\n",
    "from scipy import stats\n",
    "from scipy.special import boxcox1p\n",
    "from scipy.stats import norm\n",
    "from sklearn.model_selection import train_test_split\n",
    "from sklearn.linear_model import LinearRegression\n",
    "from sklearn.linear_model import Ridge\n",
    "from sklearn.metrics import mean_squared_error\n",
    "from sklearn.datasets import load_digits\n",
    "from sklearn.ensemble import RandomForestRegressor, GradientBoostingRegressor\n",
    "digits= load_digits()\n",
    "%matplotlib inline\n",
    "import matplotlib.pyplot as plt"
   ]
  },
  {
   "cell_type": "code",
   "execution_count": 2,
   "metadata": {},
   "outputs": [],
   "source": [
    "train_data = pd.read_csv(\"cleaned_training.csv\",index_col=0)"
   ]
  },
  {
   "cell_type": "code",
   "execution_count": 3,
   "metadata": {},
   "outputs": [],
   "source": [
    "train_data[\"TotLivingSF\"] = train_data[\"GrLivArea\"] + train_data[\"TotalBsmtSF\"] - train_data[\"LowQualFinSF\"]   "
   ]
  },
  {
   "cell_type": "code",
   "execution_count": 4,
   "metadata": {},
   "outputs": [],
   "source": [
    "train_data[\"AgeSold\"] = train_data[\"YrSold\"] - train_data[\"YearBuilt\"]"
   ]
  },
  {
   "cell_type": "code",
   "execution_count": 5,
   "metadata": {},
   "outputs": [],
   "source": [
    "train_data = train_data[[\"TotLivingSF\",\"OverallQual\",\"YearBuilt\",\"AgeSold\",\"ExterQual\",\"GarageCars\",\"CentralAir\",\"YearRemodAdd\",\"LotArea\",\"OverallCond\",\"FullBath\",\"KitchenQual\",\"Fireplaces\",\"FireplaceQu\",\"MSZoning\",\"LotFrontage\",\"BedroomAbvGr\",\"Neighborhood\",\"SalePrice\"]]"
   ]
  },
  {
   "cell_type": "code",
   "execution_count": 6,
   "metadata": {},
   "outputs": [],
   "source": [
    "X = train_data.iloc[:,:-1].values\n",
    "y = np.log(train_data.iloc[:,-1]).values"
   ]
  },
  {
   "cell_type": "code",
   "execution_count": 7,
   "metadata": {},
   "outputs": [],
   "source": [
    "train_data[\"ExterQual\"].replace({\"None\":0,\"Po\":1,\"Fa\":2,\"TA\":3,\"Gd\":4,\"Ex\":5},inplace=True)\n",
    "train_data[\"KitchenQual\"].replace({\"None\":0,\"Po\":1,\"Fa\":2,\"TA\":3,\"Gd\":4,\"Ex\":5},inplace=True)\n",
    "train_data[\"FireplaceQu\"].replace({\"None\":0,\"Po\":1,\"Fa\":2,\"TA\":3,\"Gd\":4,\"Ex\":5},inplace=True)\n"
   ]
  },
  {
   "cell_type": "code",
   "execution_count": 8,
   "metadata": {},
   "outputs": [],
   "source": [
    "data = train_data.iloc[:,:-1]\n",
    "data_encoded = pd.get_dummies(data,columns=[\"CentralAir\",\"MSZoning\",\"Neighborhood\"],drop_first=True)"
   ]
  },
  {
   "cell_type": "code",
   "execution_count": 9,
   "metadata": {},
   "outputs": [],
   "source": [
    "X = data_encoded.values"
   ]
  },
  {
   "cell_type": "code",
   "execution_count": 10,
   "metadata": {},
   "outputs": [],
   "source": [
    "X_train, X_test, y_train, y_test = train_test_split(X,y,test_size = .3, random_state = 0)\n"
   ]
  },
  {
   "cell_type": "code",
   "execution_count": 11,
   "metadata": {},
   "outputs": [],
   "source": [
    "model = RandomForestRegressor(n_estimators = 400, n_jobs=-1, oob_score=False,min_samples_leaf = 1, max_features = 0.4)"
   ]
  },
  {
   "cell_type": "code",
   "execution_count": 12,
   "metadata": {},
   "outputs": [
    {
     "data": {
      "text/plain": [
       "RandomForestRegressor(max_features=0.4, n_estimators=400, n_jobs=-1)"
      ]
     },
     "execution_count": 12,
     "metadata": {},
     "output_type": "execute_result"
    }
   ],
   "source": [
    "# Fit and run the model\n",
    "model.fit(X_train, y_train)"
   ]
  },
  {
   "cell_type": "code",
   "execution_count": 13,
   "metadata": {},
   "outputs": [
    {
     "data": {
      "text/plain": [
       "RandomForestRegressor(max_features=0.4, n_estimators=400, n_jobs=-1)"
      ]
     },
     "execution_count": 13,
     "metadata": {},
     "output_type": "execute_result"
    }
   ],
   "source": [
    "RandomForestRegressor(bootstrap=True, criterion='mse', max_depth=None,\n",
    "           max_features=0.4, max_leaf_nodes=None,\n",
    "           min_impurity_decrease=0.0, min_impurity_split=None,\n",
    "           min_samples_leaf=1, min_samples_split=2,\n",
    "           min_weight_fraction_leaf=0.0, n_estimators=400, n_jobs=-1,\n",
    "           oob_score=False, random_state=None, verbose=0, warm_start=False)"
   ]
  },
  {
   "cell_type": "code",
   "execution_count": 14,
   "metadata": {},
   "outputs": [
    {
     "data": {
      "text/plain": [
       "0.892118889555842"
      ]
     },
     "execution_count": 14,
     "metadata": {},
     "output_type": "execute_result"
    }
   ],
   "source": [
    "model.score(X_test, y_test)"
   ]
  },
  {
   "cell_type": "code",
   "execution_count": 15,
   "metadata": {},
   "outputs": [],
   "source": [
    "y_pred = model.predict(X_test)\n",
    "y_pred_train=model.predict(X_train)"
   ]
  },
  {
   "cell_type": "code",
   "execution_count": 16,
   "metadata": {},
   "outputs": [
    {
     "name": "stdout",
     "output_type": "stream",
     "text": [
      "Training Score: 0.9830260231952976\n",
      "Testing Score: 0.8921188895558418\n",
      "MSE_train: 0.0027423292661325686\n",
      "MSE: 0.01666883280746004\n"
     ]
    },
    {
     "data": {
      "image/png": "[encoded data removed]",
      "text/plain": [
       "<Figure size 432x288 with 1 Axes>"
      ]
     },
     "metadata": {
      "needs_background": "light"
     },
     "output_type": "display_data"
    }
   ],
   "source": [
    "train_score = model.score(X_train, y_train)\n",
    "testing_score = model.score(X_test, y_test)\n",
    "MSE_train= mean_squared_error(y_train,y_pred_train) \n",
    "MSE = mean_squared_error(y_test,y_pred)\n",
    "print(f\"Training Score: {train_score}\")\n",
    "print(f\"Testing Score: {testing_score}\")\n",
    "print(f\"MSE_train: {MSE_train}\")\n",
    "print(f\"MSE: {MSE}\")\n",
    "\n",
    "\n",
    "plt.scatter(model.predict(X_train), model.predict(X_train) - y_train, c=\"red\", label=\"Training Data\")\n",
    "plt.scatter(y_pred, y_pred - y_test, c=\"pink\", label=\"Testing Data\")\n",
    "plt.legend()\n",
    "plt.hlines(y=0, xmin=y_test.min(), xmax=y_test.max())\n",
    "plt.title(\"Residual Plot\")\n",
    "plt.xlabel(\"log(Home Price (USD))\")\n",
    "plt.show()"
   ]
  },
  {
   "cell_type": "code",
   "execution_count": 18,
   "metadata": {},
   "outputs": [],
   "source": [
    "actual_predictions = pd.DataFrame({\"actual\":y_test,\"predictions\":y_pred})\n",
    "actual_predictions[[\"actual\",\"predictions\"]] = np.exp(actual_predictions[[\"actual\",\"predictions\"]])\n",
    "actual_predictions.to_csv(\"randomforest_pred.csv\",header=True)"
   ]
  },
  {
   "cell_type": "markdown",
   "metadata": {},
   "source": [
    "# Random Forest Regression: Grid Search Method"
   ]
  },
  {
   "cell_type": "code",
   "execution_count": 19,
   "metadata": {},
   "outputs": [],
   "source": [
    "from sklearn import svm, metrics, preprocessing, model_selection \n",
    "\n",
    "from matplotlib.colors import ListedColormap \n",
    " \n",
    "from sklearn.model_selection import train_test_split, GridSearchCV \n",
    "\n",
    "from sklearn.svm import SVC\n",
    "from sklearn import metrics \n",
    "\n",
    "from sklearn.metrics import r2_score"
   ]
  },
  {
   "cell_type": "code",
   "execution_count": 20,
   "metadata": {},
   "outputs": [],
   "source": [
    "\n",
    "search_params = {\n",
    "    'n_estimators'      : [5, 10, 20, 30, 50, 100, 300],\n",
    "    'max_features'      : [i for i in range(1,X_train.shape[1])],\n",
    "    'min_samples_split' : [3, 5, 10, 15, 20, 25, 30, 40, 50, 100],\n",
    "    'max_depth'         : [3, 5, 10, 15, 20, 25, 30, 40, 50, 100]}\n",
    "                        \n",
    "gsr = GridSearchCV(\n",
    "    RandomForestRegressor(),\n",
    "    search_params,\n",
    "    cv = 3,\n",
    "    n_jobs = -1,\n",
    "    verbose=True)\n",
    " "
   ]
  },
  {
   "cell_type": "code",
   "execution_count": null,
   "metadata": {},
   "outputs": [
    {
     "name": "stdout",
     "output_type": "stream",
     "text": [
      "Fitting 3 folds for each of 30100 candidates, totalling 90300 fits\n"
     ]
    }
   ],
   "source": [
    "gsr.fit(X_train, y_train)"
   ]
  },
  {
   "cell_type": "code",
   "execution_count": null,
   "metadata": {},
   "outputs": [],
   "source": [
    "print(gsr.best_estimator_)"
   ]
  },
  {
   "cell_type": "code",
   "execution_count": null,
   "metadata": {},
   "outputs": [],
   "source": [
    "gsr.best_estimator_.score(X_test, y_test)"
   ]
  },
  {
   "cell_type": "code",
   "execution_count": null,
   "metadata": {},
   "outputs": [],
   "source": [
    "model_gsr=RandomForestRegressor(bootstrap=True, criterion='mse', max_depth=25,\n",
    "                      max_features=15, max_leaf_nodes=None,\n",
    "                      min_impurity_decrease=0.0, min_impurity_split=None,\n",
    "                      min_samples_leaf=1, min_samples_split=3,\n",
    "                      min_weight_fraction_leaf=0.0, n_estimators=100,\n",
    "                      n_jobs=None, oob_score=False, random_state=None,\n",
    "                      verbose=0, warm_start=False)\n",
    "\n",
    "model_gsr.fit(X_test, y_test)\n",
    "y_pred_gsr = model_gsr.predict(X_test)\n",
    "testing_score_gsr=gsr.best_estimator_.score(X_test, y_test)"
   ]
  },
  {
   "cell_type": "code",
   "execution_count": null,
   "metadata": {},
   "outputs": [],
   "source": [
    "MSE_train= mean_squared_error(y_train,y_pred_train) \n",
    "MSE = mean_squared_error(y_test,y_pred)\n",
    "MSE_gsr= mean_squared_error(y_test,y_pred_gsr)\n",
    "print(f\"Training Score: {train_score}\")\n",
    "print(f\"Testing Score: {testing_score}\")\n",
    "print(f\"Testing Score_gsr: {testing_score_gsr}\")\n",
    "print(f\"MSE_train: {MSE_train}\")\n",
    "print(f\"MSE: {MSE}\")\n",
    "print(f\"MSE_gsr: {MSE_gsr}\")"
   ]
  },
  {
   "cell_type": "code",
   "execution_count": null,
   "metadata": {},
   "outputs": [],
   "source": [
    "actual_predictions = pd.DataFrame({\"actual\":y_test,\"predictions\":y_pred})\n",
    "actual_predictions[[\"actual\",\"predictions\"]] = np.exp(actual_predictions[[\"actual\",\"predictions\"]])\n",
    "actual_predictions.to_csv(\"randomforest2_regression.csv\",header=True)"
   ]
  }
 ],
 "metadata": {
  "kernelspec": {
   "display_name": "Python 3",
   "language": "python",
   "name": "python3"
  },
  "language_info": {
   "codemirror_mode": {
    "name": "ipython",
    "version": 3
   },
   "file_extension": ".py",
   "mimetype": "text/x-python",
   "name": "python",
   "nbconvert_exporter": "python",
   "pygments_lexer": "ipython3",
   "version": "3.8.3"
  },
  "toc": {
   "base_numbering": 1,
   "nav_menu": {},
   "number_sections": true,
   "sideBar": true,
   "skip_h1_title": false,
   "title_cell": "Table of Contents",
   "title_sidebar": "Contents",
   "toc_cell": false,
   "toc_position": {},
   "toc_section_display": true,
   "toc_window_display": false
  },
  "varInspector": {
   "cols": {
    "lenName": 16,
    "lenType": 16,
    "lenVar": 40
   },
   "kernels_config": {
    "python": {
     "delete_cmd_postfix": "",
     "delete_cmd_prefix": "del ",
     "library": "var_list.py",
     "varRefreshCmd": "print(var_dic_list())"
    },
    "r": {
     "delete_cmd_postfix": ") ",
     "delete_cmd_prefix": "rm(",
     "library": "var_list.r",
     "varRefreshCmd": "cat(var_dic_list()) "
    }
   },
   "types_to_exclude": [
    "module",
    "function",
    "builtin_function_or_method",
    "instance",
    "_Feature"
   ],
   "window_display": false
  }
 },
 "nbformat": 4,
 "nbformat_minor": 2
}
